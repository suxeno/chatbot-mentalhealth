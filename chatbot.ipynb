{
 "cells": [
  {
   "cell_type": "markdown",
   "metadata": {},
   "source": [
    "## Import Libraries"
   ]
  },
  {
   "cell_type": "code",
   "execution_count": 1,
   "metadata": {},
   "outputs": [],
   "source": [
    "import io\n",
    "import random\n",
    "import string\n",
    "import warnings\n",
    "import numpy as np\n",
    "from sklearn.feature_extraction.text import TfidfVectorizer\n",
    "from sklearn.metrics.pairwise import cosine_similarity\n",
    "import warnings\n",
    "warnings.filterwarnings('ignore')\n"
   ]
  },
  {
   "cell_type": "code",
   "execution_count": 2,
   "metadata": {},
   "outputs": [],
   "source": [
    "# pip install nltk"
   ]
  },
  {
   "cell_type": "code",
   "execution_count": 4,
   "metadata": {},
   "outputs": [],
   "source": [
    "import nltk #impor library NLTK\n",
    "from nltk.stem import WordNetLemmatizer #import library untuk lemmatization\n",
    "# nltk.download('popular', quiet=True) # for downloading packages\n",
    "#nltk.download('punkt') # first-time use only\n",
    "#nltk.download('wordnet') # first-time use only"
   ]
  },
  {
   "cell_type": "markdown",
   "metadata": {},
   "source": [
    "## Reading in the corpus"
   ]
  },
  {
   "cell_type": "markdown",
   "metadata": {},
   "source": [
    "Program ini menggunakan halaman Wikipedia sebagai corpus dari chatpotdengan cara meng-Copy konten halaman dan menyimpannya dalam\n",
    "file ‘chatbot.txtʼ"
   ]
  },
  {
   "cell_type": "code",
   "execution_count": 5,
   "metadata": {},
   "outputs": [],
   "source": [
    "f=open('chatbot.txt','r',errors = 'ignore') #membuka file corpus dari wikipedia\n",
    "raw=f.read() #raw kini berisi semua data dari corpus per baris (raw)\n",
    "raw = raw.lower()# converts to lowercase"
   ]
  },
  {
   "cell_type": "markdown",
   "metadata": {},
   "source": [
    "## Tokenisasi"
   ]
  },
  {
   "cell_type": "code",
   "execution_count": 6,
   "metadata": {},
   "outputs": [],
   "source": [
    "#tokenisasi adalah memilah-milah dokumen ke kalimat-kalimat,\n",
    "#kemudian memilah setiap kalimat menjadi sekumpulan kata kata\n",
    "sent_tokens = nltk.sent_tokenize(raw) # converts dokumen corpus ke kalimat-kalimat\n",
    "word_tokens = nltk.word_tokenize(raw)# converts dokumen corpus ke kata-kata"
   ]
  },
  {
   "cell_type": "markdown",
   "metadata": {},
   "source": [
    "## Preprocessing"
   ]
  },
  {
   "cell_type": "code",
   "execution_count": 7,
   "metadata": {},
   "outputs": [],
   "source": [
    "lemmer = nltk.stem.WordNetLemmatizer()\n",
    "#WordNet is a semantically-oriented dictionary of English included in NLTK.\n",
    "def LemTokens(tokens):\n",
    " return [lemmer.lemmatize(token) for token in tokens]\n",
    "remove_punct_dict = dict((ord(punct), None) for punct in string.punctuation)\n",
    "def LemNormalize(text):\n",
    " return LemTokens(nltk.word_tokenize(text.lower().translate(remove_punct_dict)))"
   ]
  },
  {
   "cell_type": "markdown",
   "metadata": {},
   "source": [
    "## Keyword matching"
   ]
  },
  {
   "cell_type": "code",
   "execution_count": 14,
   "metadata": {},
   "outputs": [],
   "source": [
    "#kata-kata pembuka didaftar terlebih dulu dan kemudian secara acak diberikan respon jawabannya\n",
    "GREETING_INPUTS = (\"hello\", \"hi\", \"greetings\", \"sup\", \"what's up\",\"hey\",)\n",
    "GREETING_RESPONSES = [\"hi\", \"hey\", \"*nods*\", \"hi there\", \"hello\", \"I am glad! You are talking to me\"]\n",
    "def greeting(sentence):\n",
    " for word in sentence.split():\n",
    "    if word.lower() in GREETING_INPUTS:\n",
    "        return random.choice(GREETING_RESPONSES)"
   ]
  },
  {
   "cell_type": "code",
   "execution_count": 20,
   "metadata": {},
   "outputs": [
    {
     "data": {
      "text/plain": [
       "'*nods*'"
      ]
     },
     "execution_count": 20,
     "metadata": {},
     "output_type": "execute_result"
    }
   ],
   "source": [
    "greeting(GREETING_INPUTS[0])"
   ]
  },
  {
   "cell_type": "markdown",
   "metadata": {},
   "source": []
  },
  {
   "cell_type": "markdown",
   "metadata": {},
   "source": [
    "After the initial preprocessing phase, we need to transform text into a meaningful vector (or array) of numbers. The bag-of-words is a\n",
    "representation of text that describes the occurrence of words within a document. It involves two things:\n",
    "- A vocabulary of known words.\n",
    "- A measure of the presence of known words.\n",
    "\n",
    "\n",
    "Why is it is called a “bag” of words? That is because any information about the order or structure of words in the document is discarded and the\n",
    "model is only concerned with whether the known words occur in the document, not where they occur in the document.\n",
    "The intuition behind the Bag of Words is that documents are similar if they have similar content. Also, we can learn something about the\n",
    "meaning of the document from its content alone.\n",
    "For example, if our dictionary contains the words {Learning, is, the, not, great}, and we want to vectorize the text “Learning is great”, we would\n",
    "have the following vector: (1, 1, 0, 0, 1).\n"
   ]
  },
  {
   "cell_type": "markdown",
   "metadata": {},
   "source": [
    "## TF-IDF Approach"
   ]
  },
  {
   "cell_type": "markdown",
   "metadata": {},
   "source": [
    "A problem with the Bag of Words approach is that highly frequent words start to dominate in the document (e.g. larger score), but may not\n",
    "contain as much “informational content”. Also, it will give more weight to longer documents than shorter documents. One approach is to rescale the frequency of words by how often they appear in all documents so that the scores for frequent words like “the”\n",
    "that are also frequent across all documents are penalized. This approach to scoring is called Term Frequency-Inverse Document Frequency, or\n",
    "TF-IDF for short, where:\n",
    "\n",
    "Term Frequency: is a scoring of the frequency of the word in the current document.\n",
    "- TF = (Number of times term t appears in a document)/(Number of terms in the document)\n",
    "\n",
    "Inverse Document Frequency: is a scoring of how rare the word is across documents.\n",
    "- IDF = 1+log(N/n), where, N is the number of documents and n is the number of documents a term t has appeared in.\n"
   ]
  },
  {
   "cell_type": "markdown",
   "metadata": {},
   "source": [
    "## Cosine Similarity"
   ]
  },
  {
   "cell_type": "markdown",
   "metadata": {},
   "source": [
    "Tf-idf weight is a weight often used in information retrieval and text mining. This weight is a statistical measure used to evaluate how important\n",
    "a word is to a document in a collection or corpus\n",
    "\n",
    "- Cosine Similarity (d1, d2) = Dot product(d1, d2) / ||d1|| * ||d2||\n",
    "\n",
    "where d1,d2 are two non zero vectors.\n",
    "To generate a response from our bot for input questions, the concept of document similarity will be used. We define a function response which\n",
    "searches the userʼs utterance for one or more known keywords and returns one of several possible responses. If it doesnʼt find the input\n",
    "matching any of the keywords, it returns a response:” I am sorry! I donʼt understand you”\n"
   ]
  },
  {
   "cell_type": "code",
   "execution_count": 21,
   "metadata": {},
   "outputs": [],
   "source": [
    "#fungsi untuk menetapkan respon jawaban\n",
    "def response(user_response):\n",
    "    robo_response='' #pada tahap awal respon mesin diisi karakter kosong\n",
    "    sent_tokens.append(user_response) #pertanyaan user ditokenisasi dan ditambahkan di corpus\n",
    "    # posisi paling bawah (yaitu posisi -1)\n",
    "    TfidfVec = TfidfVectorizer(tokenizer=LemNormalize, stop_words='english')\n",
    "    tfidf = TfidfVec.fit_transform(sent_tokens) #token dari pertanyaan user di vektorisasi\n",
    "    vals = cosine_similarity(tfidf[-1], tfidf) #hitung similarity setiap token corspus dengan token pertanyaan\n",
    "    idx=vals.argsort()[0][-2] #sort jarak similariti setiap token corpus dengan token pertanyaan\n",
    "    flat = vals.flatten()\n",
    "    flat.sort()\n",
    "    req_tfidf = flat[-2]\n",
    "    if(req_tfidf==0): #jika pertanyaan dan semua token corpus jaraknya tinggi maka\n",
    "    #berarti pertanyaan tidak ada jawabannya\n",
    "        robo_response=robo_response+\"Please reply, I don't understand your questions\"\n",
    "        return robo_response\n",
    "    else:\n",
    "        robo_response = robo_response+sent_tokens[idx] #jika jaraknya terrendah maka dipakai sebagai jawaban\n",
    "        return robo_response"
   ]
  },
  {
   "cell_type": "markdown",
   "metadata": {},
   "source": [
    "Finally, we will feed the lines that we want our bot to say while starting and ending a conversation depending upon userʼs input."
   ]
  },
  {
   "cell_type": "code",
   "execution_count": null,
   "metadata": {},
   "outputs": [],
   "source": []
  }
 ],
 "metadata": {
  "kernelspec": {
   "display_name": "tensorflow",
   "language": "python",
   "name": "python3"
  },
  "language_info": {
   "codemirror_mode": {
    "name": "ipython",
    "version": 3
   },
   "file_extension": ".py",
   "mimetype": "text/x-python",
   "name": "python",
   "nbconvert_exporter": "python",
   "pygments_lexer": "ipython3",
   "version": "3.11.5"
  }
 },
 "nbformat": 4,
 "nbformat_minor": 2
}
